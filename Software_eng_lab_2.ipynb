{
  "nbformat": 4,
  "nbformat_minor": 0,
  "metadata": {
    "colab": {
      "provenance": [],
      "authorship_tag": "ABX9TyPuNzNsDUvtAuO+V/ld6mst",
      "include_colab_link": true
    },
    "kernelspec": {
      "name": "python3",
      "display_name": "Python 3"
    },
    "language_info": {
      "name": "python"
    }
  },
  "cells": [
    {
      "cell_type": "markdown",
      "metadata": {
        "id": "view-in-github",
        "colab_type": "text"
      },
      "source": [
        "<a href=\"https://colab.research.google.com/github/Varuni2113/Colab-programes-Task-2-2113-/blob/main/Software_eng_lab_2.ipynb\" target=\"_parent\"><img src=\"https://colab.research.google.com/assets/colab-badge.svg\" alt=\"Open In Colab\"/></a>"
      ]
    },
    {
      "cell_type": "code",
      "execution_count": null,
      "metadata": {
        "id": "e3abGBFqxkDQ"
      },
      "outputs": [],
      "source": [
        "def Temperature_modeling(a,b,c,time):\n",
        "  temperature = a*time**2 + b*time +c\n",
        "  return temperature"
      ]
    },
    {
      "cell_type": "code",
      "source": [
        "# Hardcoded variables\n",
        "a,b,c=0.1,2,10\n",
        "time = 5"
      ],
      "metadata": {
        "id": "uQS5OAHpyEKr"
      },
      "execution_count": null,
      "outputs": []
    },
    {
      "cell_type": "code",
      "source": [
        "#display results\n",
        "print(\"Hard-coded variables for weather modeling\")\n",
        "print(\"Temperature for hardcoded coefficients at time\",time,\"hours:\",Temperature_modeling(a,b,c,time))"
      ],
      "metadata": {
        "colab": {
          "base_uri": "https://localhost:8080/"
        },
        "id": "kWNsnbgcySuE",
        "outputId": "972129db-c375-4371-f69c-dad3e79e6067"
      },
      "execution_count": null,
      "outputs": [
        {
          "output_type": "stream",
          "name": "stdout",
          "text": [
            "Hard-coded variables for weather modeling\n",
            "Temperature for hardcoded coefficients at time 5 hours: 22.5\n"
          ]
        }
      ]
    },
    {
      "cell_type": "code",
      "source": [
        "a=float(input(\"Enter coefficient a:\"))\n",
        "b=float(input(\"Enter coefficient b:\"))\n",
        "c=float(input(\"Enter coefficient c:\"))"
      ],
      "metadata": {
        "colab": {
          "base_uri": "https://localhost:8080/"
        },
        "id": "2Syyb2i_y80r",
        "outputId": "b63be1ad-6d50-4b4d-8ee1-fbd3a1828a44"
      },
      "execution_count": null,
      "outputs": [
        {
          "name": "stdout",
          "output_type": "stream",
          "text": [
            "Enter coefficient a:0.1\n",
            "Enter coefficient b:2\n",
            "Enter coefficient c:10\n"
          ]
        }
      ]
    },
    {
      "cell_type": "code",
      "source": [
        "time=float(input(\"enter time\"))"
      ],
      "metadata": {
        "colab": {
          "base_uri": "https://localhost:8080/"
        },
        "id": "ewlvxY4Dzub7",
        "outputId": "789295c7-d9db-4740-dff1-a02edb7847fa"
      },
      "execution_count": null,
      "outputs": [
        {
          "name": "stdout",
          "output_type": "stream",
          "text": [
            "enter time4\n"
          ]
        }
      ]
    },
    {
      "cell_type": "code",
      "source": [
        "#variables read from keyboard\n",
        "print(\"hard-coded variables for weather modeling\")\n",
        "print(\"Temperature from coefficients at time\", time ,\"hours:\",Temperature_modeling(a,b,c,time))"
      ],
      "metadata": {
        "colab": {
          "base_uri": "https://localhost:8080/"
        },
        "id": "MDGMaSHpz8rk",
        "outputId": "9c7f77e6-8ae8-4071-d818-d0caeb07c213"
      },
      "execution_count": null,
      "outputs": [
        {
          "output_type": "stream",
          "name": "stdout",
          "text": [
            "hard-coded variables for weather modeling\n",
            "Temperature from coefficients at time 4.0 hours: 19.6\n"
          ]
        }
      ]
    },
    {
      "cell_type": "code",
      "source": [
        "#Read coefficients from a file\n",
        "def read_from_file(filename):\n",
        "    with open(filename, 'r')as file:\n",
        "        lines = file.readlines()\n",
        "        coefficients = [tuple(map(float, line.strip().split(','))) for line in lines]\n",
        "        return coefficients"
      ],
      "metadata": {
        "id": "B008okWf07B9"
      },
      "execution_count": null,
      "outputs": []
    },
    {
      "cell_type": "code",
      "source": [
        "#Example:Solve for a single set of inputs\n",
        "coefficients = read_from_file('/content/2113.txt')\n",
        "a, b, c, time = coefficients[0] #First set of coefficients\n",
        "temperature = Temperature_modeling(a, b, c,time)\n",
        "print(\"read from a file for weather modeling\")\n",
        "print(\"Temperature from keyboard coefficients at time\",time,\"hours:\",Temperature_modeling(a,b,c,time))"
      ],
      "metadata": {
        "colab": {
          "base_uri": "https://localhost:8080/"
        },
        "id": "MfhNfWx2186U",
        "outputId": "08fe49a4-3f3f-48b5-aa4e-b6f90a2eeb96"
      },
      "execution_count": null,
      "outputs": [
        {
          "output_type": "stream",
          "name": "stdout",
          "text": [
            "read from a file for weather modeling\n",
            "Temperature from keyboard coefficients at time 4.0 hours: 19.6\n"
          ]
        }
      ]
    },
    {
      "cell_type": "code",
      "source": [
        "#solve for all sets in the file\n",
        "for idx, (a, b, c,time)in enumerate(coefficients):\n",
        "  temperature = Temperature_modeling(a, b, c,time)\n",
        "  print(\"Temperature from keyboard coefficients at time\",time,\"hpurs:\",Temperature_modeling(a,b,c,time))"
      ],
      "metadata": {
        "colab": {
          "base_uri": "https://localhost:8080/"
        },
        "id": "jsLIwUb43cIL",
        "outputId": "36758e2c-324b-4c96-d92a-03fb1457f1d2"
      },
      "execution_count": null,
      "outputs": [
        {
          "output_type": "stream",
          "name": "stdout",
          "text": [
            "Temperature from keyboard coefficients at time 4.0 hpurs: 19.6\n"
          ]
        }
      ]
    },
    {
      "cell_type": "code",
      "source": [],
      "metadata": {
        "id": "gM3K-67s4hGj"
      },
      "execution_count": null,
      "outputs": []
    }
  ]
}